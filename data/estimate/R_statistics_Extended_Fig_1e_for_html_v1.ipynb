{
  "cells": [
    {
      "cell_type": "markdown",
      "source": [
        "Ken Furudate"
      ],
      "metadata": {
        "id": "TVt3UGdLOKdW"
      }
    },
    {
      "cell_type": "code",
      "source": [
        "library(reshape2)\n",
        "library(ggplot2)"
      ],
      "metadata": {
        "id": "UMf4Kr3qOROW"
      },
      "execution_count": null,
      "outputs": []
    },
    {
      "cell_type": "code",
      "source": [
        "in_f1 = \"estimate.txt\"      "
      ],
      "metadata": {
        "id": "pimZAPjZwe3R"
      },
      "execution_count": null,
      "outputs": []
    },
    {
      "cell_type": "code",
      "source": [
        "set.seed(42)\n",
        "data <- read.table(in_f1, header=TRUE, row.names=1, sep=\"\\t\", quote=\"\", stringsAsFactors = FALSE)\n",
        "data"
      ],
      "metadata": {
        "colab": {
          "base_uri": "https://localhost:8080/",
          "height": 424
        },
        "id": "8sWB4fHCz-WE",
        "outputId": "4b276325-1c60-4468-d0c4-6832774186d9"
      },
      "execution_count": null,
      "outputs": [
        {
          "output_type": "execute_result",
          "data": {
            "text/plain": [
              "                  Stromal_score  Immune_score  ESTIMATE_score  LNM\n",
              "TCGA-UF-A7JO-01A        -287.96       1678.94         1390.98    0\n",
              "TCGA-CN-4733-01A        1181.24       2370.41         3551.65    1\n",
              "TCGA-CQ-7069-01A        -371.40        -35.44         -406.85    0\n",
              "TCGA-P3-A6T5-01A        -384.06        104.19         -279.87    0\n",
              "TCGA-CV-5439-01A       -1217.83        358.81         -859.01    1\n",
              "...                         ...           ...             ...  ...\n",
              "TCGA-HD-7832-01A        -753.29        346.74         -406.54    0\n",
              "TCGA-BA-A6DE-01A       -1175.29       -262.40        -1437.69    0\n",
              "TCGA-BB-A6UO-01A         -38.53        154.55          116.02    1\n",
              "TCGA-CQ-A4CE-01A        -987.78        239.88         -747.90    0\n",
              "TCGA-BB-A5HU-01A          99.16         72.70          171.87    1\n",
              "\n",
              "[201 rows x 4 columns]"
            ],
            "text/html": [
              "\n",
              "  <div id=\"df-8323c18d-359a-425b-8375-3fbb3f2e5f37\">\n",
              "    <div class=\"colab-df-container\">\n",
              "      <div>\n",
              "<style scoped>\n",
              "    .dataframe tbody tr th:only-of-type {\n",
              "        vertical-align: middle;\n",
              "    }\n",
              "\n",
              "    .dataframe tbody tr th {\n",
              "        vertical-align: top;\n",
              "    }\n",
              "\n",
              "    .dataframe thead th {\n",
              "        text-align: right;\n",
              "    }\n",
              "</style>\n",
              "<table border=\"1\" class=\"dataframe\">\n",
              "  <thead>\n",
              "    <tr style=\"text-align: right;\">\n",
              "      <th></th>\n",
              "      <th>Stromal_score</th>\n",
              "      <th>Immune_score</th>\n",
              "      <th>ESTIMATE_score</th>\n",
              "      <th>LNM</th>\n",
              "    </tr>\n",
              "  </thead>\n",
              "  <tbody>\n",
              "    <tr>\n",
              "      <th>TCGA-UF-A7JO-01A</th>\n",
              "      <td>-287.96</td>\n",
              "      <td>1678.94</td>\n",
              "      <td>1390.98</td>\n",
              "      <td>0</td>\n",
              "    </tr>\n",
              "    <tr>\n",
              "      <th>TCGA-CN-4733-01A</th>\n",
              "      <td>1181.24</td>\n",
              "      <td>2370.41</td>\n",
              "      <td>3551.65</td>\n",
              "      <td>1</td>\n",
              "    </tr>\n",
              "    <tr>\n",
              "      <th>TCGA-CQ-7069-01A</th>\n",
              "      <td>-371.40</td>\n",
              "      <td>-35.44</td>\n",
              "      <td>-406.85</td>\n",
              "      <td>0</td>\n",
              "    </tr>\n",
              "    <tr>\n",
              "      <th>TCGA-P3-A6T5-01A</th>\n",
              "      <td>-384.06</td>\n",
              "      <td>104.19</td>\n",
              "      <td>-279.87</td>\n",
              "      <td>0</td>\n",
              "    </tr>\n",
              "    <tr>\n",
              "      <th>TCGA-CV-5439-01A</th>\n",
              "      <td>-1217.83</td>\n",
              "      <td>358.81</td>\n",
              "      <td>-859.01</td>\n",
              "      <td>1</td>\n",
              "    </tr>\n",
              "    <tr>\n",
              "      <th>...</th>\n",
              "      <td>...</td>\n",
              "      <td>...</td>\n",
              "      <td>...</td>\n",
              "      <td>...</td>\n",
              "    </tr>\n",
              "    <tr>\n",
              "      <th>TCGA-HD-7832-01A</th>\n",
              "      <td>-753.29</td>\n",
              "      <td>346.74</td>\n",
              "      <td>-406.54</td>\n",
              "      <td>0</td>\n",
              "    </tr>\n",
              "    <tr>\n",
              "      <th>TCGA-BA-A6DE-01A</th>\n",
              "      <td>-1175.29</td>\n",
              "      <td>-262.40</td>\n",
              "      <td>-1437.69</td>\n",
              "      <td>0</td>\n",
              "    </tr>\n",
              "    <tr>\n",
              "      <th>TCGA-BB-A6UO-01A</th>\n",
              "      <td>-38.53</td>\n",
              "      <td>154.55</td>\n",
              "      <td>116.02</td>\n",
              "      <td>1</td>\n",
              "    </tr>\n",
              "    <tr>\n",
              "      <th>TCGA-CQ-A4CE-01A</th>\n",
              "      <td>-987.78</td>\n",
              "      <td>239.88</td>\n",
              "      <td>-747.90</td>\n",
              "      <td>0</td>\n",
              "    </tr>\n",
              "    <tr>\n",
              "      <th>TCGA-BB-A5HU-01A</th>\n",
              "      <td>99.16</td>\n",
              "      <td>72.70</td>\n",
              "      <td>171.87</td>\n",
              "      <td>1</td>\n",
              "    </tr>\n",
              "  </tbody>\n",
              "</table>\n",
              "<p>201 rows × 4 columns</p>\n",
              "</div>\n",
              "      <button class=\"colab-df-convert\" onclick=\"convertToInteractive('df-8323c18d-359a-425b-8375-3fbb3f2e5f37')\"\n",
              "              title=\"Convert this dataframe to an interactive table.\"\n",
              "              style=\"display:none;\">\n",
              "        \n",
              "  <svg xmlns=\"http://www.w3.org/2000/svg\" height=\"24px\"viewBox=\"0 0 24 24\"\n",
              "       width=\"24px\">\n",
              "    <path d=\"M0 0h24v24H0V0z\" fill=\"none\"/>\n",
              "    <path d=\"M18.56 5.44l.94 2.06.94-2.06 2.06-.94-2.06-.94-.94-2.06-.94 2.06-2.06.94zm-11 1L8.5 8.5l.94-2.06 2.06-.94-2.06-.94L8.5 2.5l-.94 2.06-2.06.94zm10 10l.94 2.06.94-2.06 2.06-.94-2.06-.94-.94-2.06-.94 2.06-2.06.94z\"/><path d=\"M17.41 7.96l-1.37-1.37c-.4-.4-.92-.59-1.43-.59-.52 0-1.04.2-1.43.59L10.3 9.45l-7.72 7.72c-.78.78-.78 2.05 0 2.83L4 21.41c.39.39.9.59 1.41.59.51 0 1.02-.2 1.41-.59l7.78-7.78 2.81-2.81c.8-.78.8-2.07 0-2.86zM5.41 20L4 18.59l7.72-7.72 1.47 1.35L5.41 20z\"/>\n",
              "  </svg>\n",
              "      </button>\n",
              "      \n",
              "  <style>\n",
              "    .colab-df-container {\n",
              "      display:flex;\n",
              "      flex-wrap:wrap;\n",
              "      gap: 12px;\n",
              "    }\n",
              "\n",
              "    .colab-df-convert {\n",
              "      background-color: #E8F0FE;\n",
              "      border: none;\n",
              "      border-radius: 50%;\n",
              "      cursor: pointer;\n",
              "      display: none;\n",
              "      fill: #1967D2;\n",
              "      height: 32px;\n",
              "      padding: 0 0 0 0;\n",
              "      width: 32px;\n",
              "    }\n",
              "\n",
              "    .colab-df-convert:hover {\n",
              "      background-color: #E2EBFA;\n",
              "      box-shadow: 0px 1px 2px rgba(60, 64, 67, 0.3), 0px 1px 3px 1px rgba(60, 64, 67, 0.15);\n",
              "      fill: #174EA6;\n",
              "    }\n",
              "\n",
              "    [theme=dark] .colab-df-convert {\n",
              "      background-color: #3B4455;\n",
              "      fill: #D2E3FC;\n",
              "    }\n",
              "\n",
              "    [theme=dark] .colab-df-convert:hover {\n",
              "      background-color: #434B5C;\n",
              "      box-shadow: 0px 1px 3px 1px rgba(0, 0, 0, 0.15);\n",
              "      filter: drop-shadow(0px 1px 2px rgba(0, 0, 0, 0.3));\n",
              "      fill: #FFFFFF;\n",
              "    }\n",
              "  </style>\n",
              "\n",
              "      <script>\n",
              "        const buttonEl =\n",
              "          document.querySelector('#df-8323c18d-359a-425b-8375-3fbb3f2e5f37 button.colab-df-convert');\n",
              "        buttonEl.style.display =\n",
              "          google.colab.kernel.accessAllowed ? 'block' : 'none';\n",
              "\n",
              "        async function convertToInteractive(key) {\n",
              "          const element = document.querySelector('#df-8323c18d-359a-425b-8375-3fbb3f2e5f37');\n",
              "          const dataTable =\n",
              "            await google.colab.kernel.invokeFunction('convertToInteractive',\n",
              "                                                     [key], {});\n",
              "          if (!dataTable) return;\n",
              "\n",
              "          const docLinkHtml = 'Like what you see? Visit the ' +\n",
              "            '<a target=\"_blank\" href=https://colab.research.google.com/notebooks/data_table.ipynb>data table notebook</a>'\n",
              "            + ' to learn more about interactive tables.';\n",
              "          element.innerHTML = '';\n",
              "          dataTable['output_type'] = 'display_data';\n",
              "          await google.colab.output.renderOutput(dataTable, element);\n",
              "          const docLink = document.createElement('div');\n",
              "          docLink.innerHTML = docLinkHtml;\n",
              "          element.appendChild(docLink);\n",
              "        }\n",
              "      </script>\n",
              "    </div>\n",
              "  </div>\n",
              "  "
            ]
          },
          "metadata": {},
          "execution_count": 11
        }
      ]
    },
    {
      "cell_type": "code",
      "source": [
        "data.melt <- reshape2::melt(data, \n",
        "                            id.vars=\"LNM\", \n",
        "                            value.name=\"Score\", \n",
        "                            na.rm=TRUE, \n",
        "                            stringsAsFactors = FALSE\n",
        "                            )\n",
        "data.melt$LNM <- as.character(data.melt$LNM)\n",
        "head(data.melt)"
      ],
      "metadata": {
        "colab": {
          "base_uri": "https://localhost:8080/"
        },
        "id": "je3AFgEC0mSC",
        "outputId": "ad3b3e72-fda1-4d5c-d9b4-e5ec7d23f88a"
      },
      "execution_count": null,
      "outputs": [
        {
          "output_type": "stream",
          "name": "stdout",
          "text": [
            "  LNM      variable    Score\n",
            "1   0 Stromal_score  -287.96\n",
            "2   1 Stromal_score  1181.24\n",
            "3   0 Stromal_score  -371.40\n",
            "4   0 Stromal_score  -384.06\n",
            "5   1 Stromal_score -1217.83\n",
            "6   1 Stromal_score   816.70\n"
          ]
        }
      ]
    },
    {
      "cell_type": "code",
      "source": [
        "anot_cols <- c(\"#0977a9\", \"#ab162c\")\n",
        "select.col_names <- c(\"ESTIMATE_score\", \"Stromal_score\", \"Immune_score\")\n",
        "\n",
        "for (i in 1:length(select.col_names)){\n",
        "\tcol_ <- select.col_names[i]\n",
        "\tprint(col_)\n",
        "\tmat_ <- data.melt[data.melt$variable==col_,]\n",
        "  ggplot()+theme_set(theme_classic(base_size = 30, base_family = \"Arial\"))\n",
        "\tp <- ggplot(mat_,\n",
        "\t\t\t\taes(x=LNM, \n",
        "            y=Score), \n",
        "\t\t\t\t    fill=LNM\n",
        "            ) +\n",
        "        stat_boxplot(geom = \"errorbar\", \n",
        "                     width = 0.2\n",
        "                    ) +\n",
        "        geom_boxplot(aes(fill=LNM), \n",
        "                     outlier.colour=NA, alpha=1.0\n",
        "                    ) +\n",
        "        geom_jitter(aes(col=LNM), \n",
        "                    position=position_jitter(0.2), \n",
        "                    shape=16, \n",
        "                    alpha=0.9, \n",
        "                    color=\"Black\"\n",
        "                    ) +\n",
        "\t\t    labs(x=\"\", y=select.col_names[i]) +\n",
        "\t\t    scale_fill_manual(values=anot_cols) +\n",
        "\t\t    scale_colour_manual(values=anot_cols) +\n",
        "\t\t    scale_x_discrete(limits=c(\"0\", \"1\"),\n",
        "\t\t\t\t                labels=c(\"LNM(-)\", \"LNM(+)\")\n",
        "                        )\n",
        "\tprint(p)\n",
        "\n",
        "\tres_ = wilcox.test(mat_$Score~mat_$LNM,\n",
        "\t\t\t\t\t  alternative = \"two.sided\",\n",
        "\t\t\t\t\t  paired=F,\n",
        "\t\t\t\t\t  conf.int=T,\n",
        "\t\t\t\t\t  conf.level=0.95,\n",
        "\t\t\t\t\t  exact=F\n",
        "\t\t\t\t\t  )\n",
        "\tprint(res_)\n",
        "}"
      ],
      "metadata": {
        "colab": {
          "base_uri": "https://localhost:8080/",
          "height": 1000
        },
        "id": "qJZhA6TK4-2K",
        "outputId": "7a0e7564-36da-4f6d-925a-f296f52dbd27"
      },
      "execution_count": null,
      "outputs": [
        {
          "output_type": "stream",
          "name": "stdout",
          "text": [
            "[1] \"ESTIMATE_score\"\n",
            "\n",
            "\tWilcoxon rank sum test with continuity correction\n",
            "\n",
            "data:  mat_$Score by mat_$LNM\n",
            "W = 4943, p-value = 0.9971\n",
            "alternative hypothesis: true location shift is not equal to 0\n",
            "95 percent confidence interval:\n",
            " -406.1000  400.6799\n",
            "sample estimates:\n",
            "difference in location \n",
            "             -1.613426 \n",
            "\n",
            "[1] \"Stromal_score\"\n",
            "\n",
            "\tWilcoxon rank sum test with continuity correction\n",
            "\n",
            "data:  mat_$Score by mat_$LNM\n",
            "W = 4917, p-value = 0.9463\n",
            "alternative hypothesis: true location shift is not equal to 0\n",
            "95 percent confidence interval:\n",
            " -249.37  205.59\n",
            "sample estimates:\n",
            "difference in location \n",
            "             -8.484957 \n",
            "\n",
            "[1] \"Immune_score\"\n",
            "\n",
            "\tWilcoxon rank sum test with continuity correction\n",
            "\n",
            "data:  mat_$Score by mat_$LNM\n",
            "W = 5010, p-value = 0.8744\n",
            "alternative hypothesis: true location shift is not equal to 0\n",
            "95 percent confidence interval:\n",
            " -203.15  247.47\n",
            "sample estimates:\n",
            "difference in location \n",
            "              20.87748 \n",
            "\n"
          ]
        },
        {
          "output_type": "display_data",
          "data": {
            "image/png": "[encoded data removed]"
          },
          "metadata": {}
        },
        {
          "output_type": "display_data",
          "data": {
            "image/png": "[encoded data removed]"
          },
          "metadata": {}
        },
        {
          "output_type": "display_data",
          "data": {
            "image/png": "[encoded data removed]"
          },
          "metadata": {}
        }
      ]
    },
    {
      "cell_type": "code",
      "source": [
        ""
      ],
      "metadata": {
        "id": "4Rl0Uah4Ne-S"
      },
      "execution_count": null,
      "outputs": []
    }
  ],
  "metadata": {
    "colab": {
      "collapsed_sections": [],
      "machine_shape": "hm",
      "name": "R_statistics_Extended_Fig.1e.for_html.v1.ipynb",
      "provenance": []
    },
    "kernelspec": {
      "display_name": "Python 3",
      "language": "python",
      "name": "python3"
    },
    "language_info": {
      "codemirror_mode": {
        "name": "ipython",
        "version": 3
      },
      "file_extension": ".py",
      "mimetype": "text/x-python",
      "name": "python",
      "nbconvert_exporter": "python",
      "pygments_lexer": "ipython3",
      "version": "3.8.10"
    }
  },
  "nbformat": 4,
  "nbformat_minor": 0
}